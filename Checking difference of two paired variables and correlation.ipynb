{
 "cells": [
  {
   "cell_type": "code",
   "execution_count": 3,
   "id": "611141be",
   "metadata": {},
   "outputs": [
    {
     "name": "stdout",
     "output_type": "stream",
     "text": [
      "T-Statistic: 6.324555320336758\n",
      "P-Value: 0.0031982021523353082\n"
     ]
    }
   ],
   "source": [
    "import math\n",
    "import numpy as np\n",
    "from scipy import stats\n",
    "import pandas as pd\n",
    "\n",
    "# Example paired sample data\n",
    "group1 = [12, 15, 17, 14, 16]\n",
    "group2 = [10, 13, 16, 11, 14]\n",
    "\n",
    "# Perform paired t-test\n",
    "t_statistic, p_value = stats.ttest_rel(group1, group2)\n",
    "\n",
    "# Print the results\n",
    "print(\"T-Statistic:\", t_statistic)\n",
    "print(\"P-Value:\", p_value)"
   ]
  },
  {
   "cell_type": "code",
   "execution_count": 24,
   "id": "0cd81128",
   "metadata": {},
   "outputs": [
    {
     "name": "stdout",
     "output_type": "stream",
     "text": [
      "    Sr no SEX  Age  Height IN METER  Weight in kg        BMI  VO2 Max 1  \\\n",
      "0       1   M   19             1.62            50  19.051974        2.1   \n",
      "1       2   M   20             1.74            58  19.157088        2.6   \n",
      "2       3   M   18             1.81            70  21.366869        2.8   \n",
      "3       4   M   19             1.87            77  22.019503        3.2   \n",
      "4       5   M   19             1.71            49  16.757293        2.2   \n",
      "..    ...  ..  ...              ...           ...        ...        ...   \n",
      "94     95   F   20             1.50            40  17.777778        1.6   \n",
      "95     96   F   19             1.62            69  26.291724        2.9   \n",
      "96     97   F   20             1.57            57  23.124670        2.6   \n",
      "97     98   F   19             1.55            52  21.644121        2.4   \n",
      "98     99   F   18             1.59            49  19.382145        2.5   \n",
      "\n",
      "    weekly average step count  VO2 Max 2  \n",
      "0                        7560   1.909936  \n",
      "1                        8152   2.221567  \n",
      "2                        8752   2.649696  \n",
      "3                        8785   2.864068  \n",
      "4                        9879   2.027216  \n",
      "..                        ...        ...  \n",
      "94                       6900   1.530722  \n",
      "95                       7000   2.287143  \n",
      "96                       8000   2.031941  \n",
      "97                       6922   1.875581  \n",
      "98                       7800   1.882886  \n",
      "\n",
      "[99 rows x 9 columns]\n",
      "<class 'pandas.core.frame.DataFrame'>\n",
      "RangeIndex: 99 entries, 0 to 98\n",
      "Data columns (total 9 columns):\n",
      " #   Column                     Non-Null Count  Dtype  \n",
      "---  ------                     --------------  -----  \n",
      " 0   Sr no                      99 non-null     int64  \n",
      " 1   SEX                        99 non-null     object \n",
      " 2   Age                        99 non-null     int64  \n",
      " 3   Height IN METER            99 non-null     float64\n",
      " 4   Weight in kg               99 non-null     int64  \n",
      " 5   BMI                        99 non-null     float64\n",
      " 6   VO2 Max 1                  99 non-null     float64\n",
      " 7   weekly average step count  99 non-null     int64  \n",
      " 8   VO2 Max 2                  99 non-null     float64\n",
      "dtypes: float64(4), int64(4), object(1)\n",
      "memory usage: 7.1+ KB\n"
     ]
    }
   ],
   "source": [
    "import math\n",
    "import numpy as np\n",
    "from scipy import stats\n",
    "import pandas as pd\n",
    "import os\n",
    "os.chdir('C:\\\\Users\\\\User\\Desktop') \n",
    "os.getcwd()\n",
    "data = pd.read_excel(\"VO2 Max data.xlsx\")#VO2 Max ratio by weekly avg. step count and by lab test\n",
    "print(data)\n",
    "data.info()"
   ]
  },
  {
   "cell_type": "code",
   "execution_count": 27,
   "id": "45fd631d",
   "metadata": {},
   "outputs": [
    {
     "name": "stdout",
     "output_type": "stream",
     "text": [
      "T-Statistic: 15.682225335144148\n",
      "P-Value: 1.81653175365087e-28\n"
     ]
    }
   ],
   "source": [
    "# Perform paired t-test\n",
    "t_statistic, p_value = stats.ttest_rel(data['VO2 Max 1'], data['VO2 Max 2'])\n",
    "\n",
    "# Print the results\n",
    "print(\"T-Statistic:\", t_statistic)\n",
    "print(\"P-Value:\", p_value)"
   ]
  },
  {
   "cell_type": "code",
   "execution_count": 45,
   "id": "24b77561",
   "metadata": {},
   "outputs": [
    {
     "data": {
      "image/png": "[encoded data removed]",
      "text/plain": [
       "<Figure size 640x480 with 1 Axes>"
      ]
     },
     "metadata": {},
     "output_type": "display_data"
    }
   ],
   "source": [
    "#there is significant difference between two paired observation i.e.two VO2 Max ratio are not same\n",
    "import matplotlib.pyplot as plt\n",
    "x = data['VO2 Max 1'] # X-axis values\n",
    "y = data['VO2 Max 2']  # Y-axis values\n",
    "# Create scatter plot\n",
    "plt.scatter(x, y)\n",
    "plt.xlabel('VO2 Max 1')\n",
    "plt.ylabel('VO2 Max 2')\n",
    "plt.title('Scatter Plot')\n",
    "\n",
    "# Display the plot\n",
    "plt.show()"
   ]
  },
  {
   "cell_type": "code",
   "execution_count": 44,
   "id": "b30a0709",
   "metadata": {},
   "outputs": [
    {
     "name": "stdout",
     "output_type": "stream",
     "text": [
      "                Age       BMI  VO2 Max 1  VO2 Max 2\n",
      "Age        1.000000 -0.055705  -0.054427  -0.085814\n",
      "BMI       -0.055705  1.000000   0.782474   0.661598\n",
      "VO2 Max 1 -0.054427  0.782474   1.000000   0.788028\n",
      "VO2 Max 2 -0.085814  0.661598   0.788028   1.000000\n"
     ]
    }
   ],
   "source": [
    "# Calculate correlation matrix\n",
    "selected_variables=['Age', 'BMI', 'VO2 Max 1', 'VO2 Max 2']\n",
    "correlation_matrix = data[selected_variables].corr()\n",
    "\n",
    "# Print correlation matrix\n",
    "print(correlation_matrix)"
   ]
  },
  {
   "cell_type": "code",
   "execution_count": null,
   "id": "9e7c8bc9",
   "metadata": {},
   "outputs": [],
   "source": [
    "'''1.There is no correlation between Age and all other variables\n",
    "2.BMI is slightly positivly correlated with VO2 Max 1 and VO2 Max 2\n",
    "3.VO2 Max 1 and VO2 Max 2 are slightly positivly correlated '''"
   ]
  },
  {
   "cell_type": "code",
   "execution_count": null,
   "id": "e6f5a4b8",
   "metadata": {},
   "outputs": [],
   "source": []
  },
  {
   "cell_type": "code",
   "execution_count": null,
   "id": "4037875d",
   "metadata": {},
   "outputs": [],
   "source": []
  },
  {
   "cell_type": "code",
   "execution_count": null,
   "id": "98411a3e",
   "metadata": {},
   "outputs": [],
   "source": []
  }
 ],
 "metadata": {
  "kernelspec": {
   "display_name": "Python 3 (ipykernel)",
   "language": "python",
   "name": "python3"
  },
  "language_info": {
   "codemirror_mode": {
    "name": "ipython",
    "version": 3
   },
   "file_extension": ".py",
   "mimetype": "text/x-python",
   "name": "python",
   "nbconvert_exporter": "python",
   "pygments_lexer": "ipython3",
   "version": "3.9.13"
  }
 },
 "nbformat": 4,
 "nbformat_minor": 5
}
